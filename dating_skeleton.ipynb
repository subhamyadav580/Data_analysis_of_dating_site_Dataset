{
 "cells": [
  {
   "cell_type": "code",
   "execution_count": 1,
   "id": "handed-pepper",
   "metadata": {},
   "outputs": [],
   "source": [
    "import os\n",
    "import pandas as pd\n",
    "import matplotlib.pyplot as plt\n",
    "import numpy as np\n",
    "import seaborn as sns"
   ]
  },
  {
   "cell_type": "code",
   "execution_count": 55,
   "id": "immediate-alloy",
   "metadata": {},
   "outputs": [],
   "source": [
    "data = pd.read_csv('profiles.csv')"
   ]
  },
  {
   "cell_type": "code",
   "execution_count": 58,
   "id": "existing-master",
   "metadata": {},
   "outputs": [],
   "source": [
    "os.makedirs('dataset', exist_ok=True)\n",
    "data.to_feather('dataset/profile-raw')"
   ]
  },
  {
   "cell_type": "code",
   "execution_count": 120,
   "id": "detailed-tuner",
   "metadata": {},
   "outputs": [],
   "source": [
    "data = pd.read_feather('dataset/profile-raw')"
   ]
  },
  {
   "cell_type": "code",
   "execution_count": 81,
   "id": "racial-smoke",
   "metadata": {},
   "outputs": [
    {
     "data": {
      "text/html": [
       "<div>\n",
       "<style scoped>\n",
       "    .dataframe tbody tr th:only-of-type {\n",
       "        vertical-align: middle;\n",
       "    }\n",
       "\n",
       "    .dataframe tbody tr th {\n",
       "        vertical-align: top;\n",
       "    }\n",
       "\n",
       "    .dataframe thead th {\n",
       "        text-align: right;\n",
       "    }\n",
       "</style>\n",
       "<table border=\"1\" class=\"dataframe\">\n",
       "  <thead>\n",
       "    <tr style=\"text-align: right;\">\n",
       "      <th></th>\n",
       "      <th>0</th>\n",
       "      <th>1</th>\n",
       "    </tr>\n",
       "  </thead>\n",
       "  <tbody>\n",
       "    <tr>\n",
       "      <th>age</th>\n",
       "      <td>22</td>\n",
       "      <td>35</td>\n",
       "    </tr>\n",
       "    <tr>\n",
       "      <th>body_type</th>\n",
       "      <td>a little extra</td>\n",
       "      <td>average</td>\n",
       "    </tr>\n",
       "    <tr>\n",
       "      <th>diet</th>\n",
       "      <td>strictly anything</td>\n",
       "      <td>mostly other</td>\n",
       "    </tr>\n",
       "    <tr>\n",
       "      <th>drinks</th>\n",
       "      <td>socially</td>\n",
       "      <td>often</td>\n",
       "    </tr>\n",
       "    <tr>\n",
       "      <th>drugs</th>\n",
       "      <td>never</td>\n",
       "      <td>sometimes</td>\n",
       "    </tr>\n",
       "    <tr>\n",
       "      <th>education</th>\n",
       "      <td>working on college/university</td>\n",
       "      <td>working on space camp</td>\n",
       "    </tr>\n",
       "    <tr>\n",
       "      <th>essay0</th>\n",
       "      <td>about me:&lt;br /&gt;\\n&lt;br /&gt;\\ni would love to think...</td>\n",
       "      <td>i am a chef: this is what that means.&lt;br /&gt;\\n1...</td>\n",
       "    </tr>\n",
       "    <tr>\n",
       "      <th>essay1</th>\n",
       "      <td>currently working as an international agent fo...</td>\n",
       "      <td>dedicating everyday to being an unbelievable b...</td>\n",
       "    </tr>\n",
       "    <tr>\n",
       "      <th>essay2</th>\n",
       "      <td>making people laugh.&lt;br /&gt;\\nranting about a go...</td>\n",
       "      <td>being silly. having ridiculous amonts of fun w...</td>\n",
       "    </tr>\n",
       "    <tr>\n",
       "      <th>essay3</th>\n",
       "      <td>the way i look. i am a six foot half asian, ha...</td>\n",
       "      <td>None</td>\n",
       "    </tr>\n",
       "    <tr>\n",
       "      <th>essay4</th>\n",
       "      <td>books:&lt;br /&gt;\\nabsurdistan, the republic, of mi...</td>\n",
       "      <td>i am die hard christopher moore fan. i don't r...</td>\n",
       "    </tr>\n",
       "    <tr>\n",
       "      <th>essay5</th>\n",
       "      <td>food.&lt;br /&gt;\\nwater.&lt;br /&gt;\\ncell phone.&lt;br /&gt;\\n...</td>\n",
       "      <td>delicious porkness in all of its glories.&lt;br /...</td>\n",
       "    </tr>\n",
       "    <tr>\n",
       "      <th>essay6</th>\n",
       "      <td>duality and humorous things</td>\n",
       "      <td>None</td>\n",
       "    </tr>\n",
       "    <tr>\n",
       "      <th>essay7</th>\n",
       "      <td>trying to find someone to hang out with. i am ...</td>\n",
       "      <td>None</td>\n",
       "    </tr>\n",
       "    <tr>\n",
       "      <th>essay8</th>\n",
       "      <td>i am new to california and looking for someone...</td>\n",
       "      <td>i am very open and will share just about anyth...</td>\n",
       "    </tr>\n",
       "    <tr>\n",
       "      <th>essay9</th>\n",
       "      <td>you want to be swept off your feet!&lt;br /&gt;\\nyou...</td>\n",
       "      <td>None</td>\n",
       "    </tr>\n",
       "    <tr>\n",
       "      <th>ethnicity</th>\n",
       "      <td>asian, white</td>\n",
       "      <td>white</td>\n",
       "    </tr>\n",
       "    <tr>\n",
       "      <th>height</th>\n",
       "      <td>7500.0%</td>\n",
       "      <td>7000.0%</td>\n",
       "    </tr>\n",
       "    <tr>\n",
       "      <th>income</th>\n",
       "      <td>-1</td>\n",
       "      <td>80000</td>\n",
       "    </tr>\n",
       "    <tr>\n",
       "      <th>job</th>\n",
       "      <td>transportation</td>\n",
       "      <td>hospitality / travel</td>\n",
       "    </tr>\n",
       "    <tr>\n",
       "      <th>last_online</th>\n",
       "      <td>2012-06-28-20-30</td>\n",
       "      <td>2012-06-29-21-41</td>\n",
       "    </tr>\n",
       "    <tr>\n",
       "      <th>location</th>\n",
       "      <td>south san francisco, california</td>\n",
       "      <td>oakland, california</td>\n",
       "    </tr>\n",
       "    <tr>\n",
       "      <th>offspring</th>\n",
       "      <td>doesn&amp;rsquo;t have kids, but might want them</td>\n",
       "      <td>doesn&amp;rsquo;t have kids, but might want them</td>\n",
       "    </tr>\n",
       "    <tr>\n",
       "      <th>orientation</th>\n",
       "      <td>straight</td>\n",
       "      <td>straight</td>\n",
       "    </tr>\n",
       "    <tr>\n",
       "      <th>pets</th>\n",
       "      <td>likes dogs and likes cats</td>\n",
       "      <td>likes dogs and likes cats</td>\n",
       "    </tr>\n",
       "    <tr>\n",
       "      <th>religion</th>\n",
       "      <td>agnosticism and very serious about it</td>\n",
       "      <td>agnosticism but not too serious about it</td>\n",
       "    </tr>\n",
       "    <tr>\n",
       "      <th>sex</th>\n",
       "      <td>m</td>\n",
       "      <td>m</td>\n",
       "    </tr>\n",
       "    <tr>\n",
       "      <th>sign</th>\n",
       "      <td>gemini</td>\n",
       "      <td>cancer</td>\n",
       "    </tr>\n",
       "    <tr>\n",
       "      <th>smokes</th>\n",
       "      <td>sometimes</td>\n",
       "      <td>no</td>\n",
       "    </tr>\n",
       "    <tr>\n",
       "      <th>speaks</th>\n",
       "      <td>english</td>\n",
       "      <td>english (fluently), spanish (poorly), french (...</td>\n",
       "    </tr>\n",
       "    <tr>\n",
       "      <th>status</th>\n",
       "      <td>single</td>\n",
       "      <td>single</td>\n",
       "    </tr>\n",
       "    <tr>\n",
       "      <th>18-25</th>\n",
       "      <td>Yes</td>\n",
       "      <td>No</td>\n",
       "    </tr>\n",
       "    <tr>\n",
       "      <th>26-35</th>\n",
       "      <td>No</td>\n",
       "      <td>Yes</td>\n",
       "    </tr>\n",
       "    <tr>\n",
       "      <th>36-45</th>\n",
       "      <td>No</td>\n",
       "      <td>No</td>\n",
       "    </tr>\n",
       "    <tr>\n",
       "      <th>45-above</th>\n",
       "      <td>No</td>\n",
       "      <td>No</td>\n",
       "    </tr>\n",
       "    <tr>\n",
       "      <th>drinks_code</th>\n",
       "      <td>200.0%</td>\n",
       "      <td>300.0%</td>\n",
       "    </tr>\n",
       "  </tbody>\n",
       "</table>\n",
       "</div>"
      ],
      "text/plain": [
       "                                                             0  \\\n",
       "age                                                         22   \n",
       "body_type                                       a little extra   \n",
       "diet                                         strictly anything   \n",
       "drinks                                                socially   \n",
       "drugs                                                    never   \n",
       "education                        working on college/university   \n",
       "essay0       about me:<br />\\n<br />\\ni would love to think...   \n",
       "essay1       currently working as an international agent fo...   \n",
       "essay2       making people laugh.<br />\\nranting about a go...   \n",
       "essay3       the way i look. i am a six foot half asian, ha...   \n",
       "essay4       books:<br />\\nabsurdistan, the republic, of mi...   \n",
       "essay5       food.<br />\\nwater.<br />\\ncell phone.<br />\\n...   \n",
       "essay6                             duality and humorous things   \n",
       "essay7       trying to find someone to hang out with. i am ...   \n",
       "essay8       i am new to california and looking for someone...   \n",
       "essay9       you want to be swept off your feet!<br />\\nyou...   \n",
       "ethnicity                                         asian, white   \n",
       "height                                                 7500.0%   \n",
       "income                                                      -1   \n",
       "job                                             transportation   \n",
       "last_online                                   2012-06-28-20-30   \n",
       "location                       south san francisco, california   \n",
       "offspring         doesn&rsquo;t have kids, but might want them   \n",
       "orientation                                           straight   \n",
       "pets                                 likes dogs and likes cats   \n",
       "religion                 agnosticism and very serious about it   \n",
       "sex                                                          m   \n",
       "sign                                                    gemini   \n",
       "smokes                                               sometimes   \n",
       "speaks                                                 english   \n",
       "status                                                  single   \n",
       "18-25                                                      Yes   \n",
       "26-35                                                       No   \n",
       "36-45                                                       No   \n",
       "45-above                                                    No   \n",
       "drinks_code                                             200.0%   \n",
       "\n",
       "                                                             1  \n",
       "age                                                         35  \n",
       "body_type                                              average  \n",
       "diet                                              mostly other  \n",
       "drinks                                                   often  \n",
       "drugs                                                sometimes  \n",
       "education                                working on space camp  \n",
       "essay0       i am a chef: this is what that means.<br />\\n1...  \n",
       "essay1       dedicating everyday to being an unbelievable b...  \n",
       "essay2       being silly. having ridiculous amonts of fun w...  \n",
       "essay3                                                    None  \n",
       "essay4       i am die hard christopher moore fan. i don't r...  \n",
       "essay5       delicious porkness in all of its glories.<br /...  \n",
       "essay6                                                    None  \n",
       "essay7                                                    None  \n",
       "essay8       i am very open and will share just about anyth...  \n",
       "essay9                                                    None  \n",
       "ethnicity                                                white  \n",
       "height                                                 7000.0%  \n",
       "income                                                   80000  \n",
       "job                                       hospitality / travel  \n",
       "last_online                                   2012-06-29-21-41  \n",
       "location                                   oakland, california  \n",
       "offspring         doesn&rsquo;t have kids, but might want them  \n",
       "orientation                                           straight  \n",
       "pets                                 likes dogs and likes cats  \n",
       "religion              agnosticism but not too serious about it  \n",
       "sex                                                          m  \n",
       "sign                                                    cancer  \n",
       "smokes                                                      no  \n",
       "speaks       english (fluently), spanish (poorly), french (...  \n",
       "status                                                  single  \n",
       "18-25                                                       No  \n",
       "26-35                                                      Yes  \n",
       "36-45                                                       No  \n",
       "45-above                                                    No  \n",
       "drinks_code                                             300.0%  "
      ]
     },
     "execution_count": 81,
     "metadata": {},
     "output_type": "execute_result"
    }
   ],
   "source": [
    "data.head(2).T"
   ]
  },
  {
   "cell_type": "code",
   "execution_count": 4,
   "id": "likely-handle",
   "metadata": {},
   "outputs": [
    {
     "data": {
      "text/plain": [
       "59946"
      ]
     },
     "execution_count": 4,
     "metadata": {},
     "output_type": "execute_result"
    }
   ],
   "source": [
    "len(data)"
   ]
  },
  {
   "cell_type": "code",
   "execution_count": 5,
   "id": "varied-graph",
   "metadata": {},
   "outputs": [
    {
     "data": {
      "text/html": [
       "<div>\n",
       "<style scoped>\n",
       "    .dataframe tbody tr th:only-of-type {\n",
       "        vertical-align: middle;\n",
       "    }\n",
       "\n",
       "    .dataframe tbody tr th {\n",
       "        vertical-align: top;\n",
       "    }\n",
       "\n",
       "    .dataframe thead th {\n",
       "        text-align: right;\n",
       "    }\n",
       "</style>\n",
       "<table border=\"1\" class=\"dataframe\">\n",
       "  <thead>\n",
       "    <tr style=\"text-align: right;\">\n",
       "      <th></th>\n",
       "      <th>age</th>\n",
       "      <th>height</th>\n",
       "      <th>income</th>\n",
       "    </tr>\n",
       "  </thead>\n",
       "  <tbody>\n",
       "    <tr>\n",
       "      <th>count</th>\n",
       "      <td>59946.000000</td>\n",
       "      <td>59943.000000</td>\n",
       "      <td>59946.000000</td>\n",
       "    </tr>\n",
       "    <tr>\n",
       "      <th>mean</th>\n",
       "      <td>32.340290</td>\n",
       "      <td>68.295281</td>\n",
       "      <td>20033.222534</td>\n",
       "    </tr>\n",
       "    <tr>\n",
       "      <th>std</th>\n",
       "      <td>9.452779</td>\n",
       "      <td>3.994803</td>\n",
       "      <td>97346.192104</td>\n",
       "    </tr>\n",
       "    <tr>\n",
       "      <th>min</th>\n",
       "      <td>18.000000</td>\n",
       "      <td>1.000000</td>\n",
       "      <td>-1.000000</td>\n",
       "    </tr>\n",
       "    <tr>\n",
       "      <th>25%</th>\n",
       "      <td>26.000000</td>\n",
       "      <td>66.000000</td>\n",
       "      <td>-1.000000</td>\n",
       "    </tr>\n",
       "    <tr>\n",
       "      <th>50%</th>\n",
       "      <td>30.000000</td>\n",
       "      <td>68.000000</td>\n",
       "      <td>-1.000000</td>\n",
       "    </tr>\n",
       "    <tr>\n",
       "      <th>75%</th>\n",
       "      <td>37.000000</td>\n",
       "      <td>71.000000</td>\n",
       "      <td>-1.000000</td>\n",
       "    </tr>\n",
       "    <tr>\n",
       "      <th>max</th>\n",
       "      <td>110.000000</td>\n",
       "      <td>95.000000</td>\n",
       "      <td>1000000.000000</td>\n",
       "    </tr>\n",
       "  </tbody>\n",
       "</table>\n",
       "</div>"
      ],
      "text/plain": [
       "                age        height          income\n",
       "count  59946.000000  59943.000000    59946.000000\n",
       "mean      32.340290     68.295281    20033.222534\n",
       "std        9.452779      3.994803    97346.192104\n",
       "min       18.000000      1.000000       -1.000000\n",
       "25%       26.000000     66.000000       -1.000000\n",
       "50%       30.000000     68.000000       -1.000000\n",
       "75%       37.000000     71.000000       -1.000000\n",
       "max      110.000000     95.000000  1000000.000000"
      ]
     },
     "execution_count": 5,
     "metadata": {},
     "output_type": "execute_result"
    }
   ],
   "source": [
    "data.describe()"
   ]
  },
  {
   "cell_type": "code",
   "execution_count": 6,
   "id": "physical-knight",
   "metadata": {
    "scrolled": true
   },
   "outputs": [
    {
     "data": {
      "text/plain": [
       "[0.0,\n",
       " 0.0,\n",
       " 0.0,\n",
       " 0.0,\n",
       " 0.0,\n",
       " 0.0,\n",
       " 0.0,\n",
       " 5.0045040536482834e-05,\n",
       " 0.0008340840089413805,\n",
       " 0.04979481533380042,\n",
       " 0.08834617822707103,\n",
       " 0.09154906082140593,\n",
       " 0.09194942114569779,\n",
       " 0.09475194341574084,\n",
       " 0.1105661762252694,\n",
       " 0.1263136823140827,\n",
       " 0.13675641410602876,\n",
       " 0.1607780335635405,\n",
       " 0.17577486404430653,\n",
       " 0.18099622994027958,\n",
       " 0.18443265605711806,\n",
       " 0.19143896173222566,\n",
       " 0.2077035999065826,\n",
       " 0.21023921529376438,\n",
       " 0.22972341774263505,\n",
       " 0.23487805691789276,\n",
       " 0.32070530143796083,\n",
       " 0.3323157508424249,\n",
       " 0.33740366329696725,\n",
       " 0.4069495879624996,\n",
       " 0.5932172288392887]"
      ]
     },
     "execution_count": 6,
     "metadata": {},
     "output_type": "execute_result"
    }
   ],
   "source": [
    "sorted(data.isnull().sum()/len(data))"
   ]
  },
  {
   "cell_type": "code",
   "execution_count": 7,
   "id": "varying-beverage",
   "metadata": {},
   "outputs": [
    {
     "data": {
      "text/plain": [
       "6"
      ]
     },
     "execution_count": 7,
     "metadata": {},
     "output_type": "execute_result"
    }
   ],
   "source": [
    "data.drinks.nunique()"
   ]
  },
  {
   "cell_type": "code",
   "execution_count": 8,
   "id": "compound-spine",
   "metadata": {
    "scrolled": true
   },
   "outputs": [
    {
     "data": {
      "text/plain": [
       "socially       41780\n",
       "rarely          5957\n",
       "often           5164\n",
       "not at all      3267\n",
       "very often       471\n",
       "desperately      322\n",
       "Name: drinks, dtype: int64"
      ]
     },
     "execution_count": 8,
     "metadata": {},
     "output_type": "execute_result"
    }
   ],
   "source": [
    "data.drinks.value_counts()"
   ]
  },
  {
   "cell_type": "code",
   "execution_count": 9,
   "id": "drawn-particular",
   "metadata": {},
   "outputs": [],
   "source": [
    "copy_data = data.iloc[:,0:]"
   ]
  },
  {
   "cell_type": "code",
   "execution_count": 10,
   "id": "hydraulic-distance",
   "metadata": {},
   "outputs": [
    {
     "data": {
      "text/html": [
       "<div>\n",
       "<style scoped>\n",
       "    .dataframe tbody tr th:only-of-type {\n",
       "        vertical-align: middle;\n",
       "    }\n",
       "\n",
       "    .dataframe tbody tr th {\n",
       "        vertical-align: top;\n",
       "    }\n",
       "\n",
       "    .dataframe thead th {\n",
       "        text-align: right;\n",
       "    }\n",
       "</style>\n",
       "<table border=\"1\" class=\"dataframe\">\n",
       "  <thead>\n",
       "    <tr style=\"text-align: right;\">\n",
       "      <th></th>\n",
       "      <th>Count</th>\n",
       "      <th>Percent</th>\n",
       "    </tr>\n",
       "  </thead>\n",
       "  <tbody>\n",
       "    <tr>\n",
       "      <th>offspring</th>\n",
       "      <td>35561</td>\n",
       "      <td>59.3%</td>\n",
       "    </tr>\n",
       "    <tr>\n",
       "      <th>diet</th>\n",
       "      <td>24395</td>\n",
       "      <td>40.7%</td>\n",
       "    </tr>\n",
       "    <tr>\n",
       "      <th>religion</th>\n",
       "      <td>20226</td>\n",
       "      <td>33.7%</td>\n",
       "    </tr>\n",
       "    <tr>\n",
       "      <th>pets</th>\n",
       "      <td>19921</td>\n",
       "      <td>33.2%</td>\n",
       "    </tr>\n",
       "    <tr>\n",
       "      <th>essay8</th>\n",
       "      <td>19225</td>\n",
       "      <td>32.1%</td>\n",
       "    </tr>\n",
       "    <tr>\n",
       "      <th>drugs</th>\n",
       "      <td>14080</td>\n",
       "      <td>23.5%</td>\n",
       "    </tr>\n",
       "    <tr>\n",
       "      <th>essay6</th>\n",
       "      <td>13771</td>\n",
       "      <td>23.0%</td>\n",
       "    </tr>\n",
       "    <tr>\n",
       "      <th>essay9</th>\n",
       "      <td>12603</td>\n",
       "      <td>21.0%</td>\n",
       "    </tr>\n",
       "    <tr>\n",
       "      <th>essay7</th>\n",
       "      <td>12451</td>\n",
       "      <td>20.8%</td>\n",
       "    </tr>\n",
       "    <tr>\n",
       "      <th>essay3</th>\n",
       "      <td>11476</td>\n",
       "      <td>19.1%</td>\n",
       "    </tr>\n",
       "    <tr>\n",
       "      <th>sign</th>\n",
       "      <td>11056</td>\n",
       "      <td>18.4%</td>\n",
       "    </tr>\n",
       "    <tr>\n",
       "      <th>essay5</th>\n",
       "      <td>10850</td>\n",
       "      <td>18.1%</td>\n",
       "    </tr>\n",
       "    <tr>\n",
       "      <th>essay4</th>\n",
       "      <td>10537</td>\n",
       "      <td>17.6%</td>\n",
       "    </tr>\n",
       "    <tr>\n",
       "      <th>essay2</th>\n",
       "      <td>9638</td>\n",
       "      <td>16.1%</td>\n",
       "    </tr>\n",
       "    <tr>\n",
       "      <th>job</th>\n",
       "      <td>8198</td>\n",
       "      <td>13.7%</td>\n",
       "    </tr>\n",
       "    <tr>\n",
       "      <th>essay1</th>\n",
       "      <td>7572</td>\n",
       "      <td>12.6%</td>\n",
       "    </tr>\n",
       "    <tr>\n",
       "      <th>education</th>\n",
       "      <td>6628</td>\n",
       "      <td>11.1%</td>\n",
       "    </tr>\n",
       "    <tr>\n",
       "      <th>ethnicity</th>\n",
       "      <td>5680</td>\n",
       "      <td>9.5%</td>\n",
       "    </tr>\n",
       "    <tr>\n",
       "      <th>smokes</th>\n",
       "      <td>5512</td>\n",
       "      <td>9.2%</td>\n",
       "    </tr>\n",
       "    <tr>\n",
       "      <th>essay0</th>\n",
       "      <td>5488</td>\n",
       "      <td>9.2%</td>\n",
       "    </tr>\n",
       "    <tr>\n",
       "      <th>body_type</th>\n",
       "      <td>5296</td>\n",
       "      <td>8.8%</td>\n",
       "    </tr>\n",
       "  </tbody>\n",
       "</table>\n",
       "</div>"
      ],
      "text/plain": [
       "           Count  Percent\n",
       "offspring  35561    59.3%\n",
       "diet       24395    40.7%\n",
       "religion   20226    33.7%\n",
       "pets       19921    33.2%\n",
       "essay8     19225    32.1%\n",
       "drugs      14080    23.5%\n",
       "essay6     13771    23.0%\n",
       "essay9     12603    21.0%\n",
       "essay7     12451    20.8%\n",
       "essay3     11476    19.1%\n",
       "sign       11056    18.4%\n",
       "essay5     10850    18.1%\n",
       "essay4     10537    17.6%\n",
       "essay2      9638    16.1%\n",
       "job         8198    13.7%\n",
       "essay1      7572    12.6%\n",
       "education   6628    11.1%\n",
       "ethnicity   5680     9.5%\n",
       "smokes      5512     9.2%\n",
       "essay0      5488     9.2%\n",
       "body_type   5296     8.8%"
      ]
     },
     "execution_count": 10,
     "metadata": {},
     "output_type": "execute_result"
    }
   ],
   "source": [
    "total_count = copy_data.isnull().count()\n",
    "count_na = copy_data.isnull().sum().sort_values(ascending = False)\n",
    "pct_na =(copy_data.isnull().sum()/total_count).sort_values(ascending = False)\n",
    "\n",
    "pd.options.display.float_format = '{:.1%}'.format\n",
    "\n",
    "missing_data = pd.concat([count_na, pct_na], axis=1, keys=['Count', 'Percent'])\n",
    "\n",
    "# Only show columns with more than 5% missing data\n",
    "missing_data[missing_data['Percent']>=0.05].head(21)"
   ]
  },
  {
   "cell_type": "raw",
   "id": "flush-manhattan",
   "metadata": {},
   "source": [
    "Plot which shows the percentage of null values in each column "
   ]
  },
  {
   "cell_type": "code",
   "execution_count": 11,
   "id": "stunning-enhancement",
   "metadata": {},
   "outputs": [
    {
     "data": {
      "image/png": "[encoded data removed]",
      "text/plain": [
       "<Figure size 864x360 with 1 Axes>"
      ]
     },
     "metadata": {
      "needs_background": "light"
     },
     "output_type": "display_data"
    }
   ],
   "source": [
    "plt.figure(figsize=(12, 5))\n",
    "copy_data.isnull().sum().plot(kind='bar')\n",
    "plt.xticks(rotation=50)\n",
    "plt.show()"
   ]
  },
  {
   "cell_type": "raw",
   "id": "actual-shade",
   "metadata": {},
   "source": [
    "Analyzing sex column"
   ]
  },
  {
   "cell_type": "code",
   "execution_count": 12,
   "id": "strong-serbia",
   "metadata": {},
   "outputs": [
    {
     "data": {
      "text/plain": [
       "m    35829\n",
       "f    24117\n",
       "Name: sex, dtype: int64"
      ]
     },
     "execution_count": 12,
     "metadata": {},
     "output_type": "execute_result"
    }
   ],
   "source": [
    "data.sex.value_counts()"
   ]
  },
  {
   "cell_type": "code",
   "execution_count": 13,
   "id": "minus-management",
   "metadata": {},
   "outputs": [
    {
     "data": {
      "image/png": "[encoded data removed]",
      "text/plain": [
       "<Figure size 360x504 with 1 Axes>"
      ]
     },
     "metadata": {
      "needs_background": "light"
     },
     "output_type": "display_data"
    }
   ],
   "source": [
    "plt.figure(figsize=(5,7))\n",
    "data.sex.value_counts().plot(kind='bar')\n",
    "plt.show()"
   ]
  },
  {
   "cell_type": "code",
   "execution_count": 14,
   "id": "athletic-individual",
   "metadata": {},
   "outputs": [
    {
     "data": {
      "text/plain": [
       "18"
      ]
     },
     "execution_count": 14,
     "metadata": {},
     "output_type": "execute_result"
    }
   ],
   "source": [
    "min(data.age)"
   ]
  },
  {
   "cell_type": "code",
   "execution_count": 3,
   "id": "settled-manufacturer",
   "metadata": {},
   "outputs": [],
   "source": [
    "data['18-25']=data['age'].apply(lambda x: 'Yes' if x <= 25 else 'No')"
   ]
  },
  {
   "cell_type": "code",
   "execution_count": 4,
   "id": "cheap-provider",
   "metadata": {},
   "outputs": [],
   "source": [
    "data['26-35']=data['age'].apply(lambda x: 'Yes' if x <= 35 and x > 25 else 'No')"
   ]
  },
  {
   "cell_type": "code",
   "execution_count": 5,
   "id": "regional-document",
   "metadata": {},
   "outputs": [],
   "source": [
    "data['36-45']=data['age'].apply(lambda x: 'Yes' if x <= 45 and x > 35 else 'No')"
   ]
  },
  {
   "cell_type": "code",
   "execution_count": 6,
   "id": "coupled-indicator",
   "metadata": {},
   "outputs": [],
   "source": [
    "data['45-above']=data['age'].apply(lambda x: 'Yes' if x > 45 else 'No')"
   ]
  },
  {
   "cell_type": "code",
   "execution_count": 7,
   "id": "agricultural-example",
   "metadata": {},
   "outputs": [
    {
     "data": {
      "text/plain": [
       "No     45492\n",
       "Yes    14454\n",
       "Name: 18-25, dtype: int64"
      ]
     },
     "execution_count": 7,
     "metadata": {},
     "output_type": "execute_result"
    }
   ],
   "source": [
    "data['18-25'].value_counts()"
   ]
  },
  {
   "cell_type": "code",
   "execution_count": 8,
   "id": "electoral-store",
   "metadata": {},
   "outputs": [
    {
     "data": {
      "text/plain": [
       "No     31325\n",
       "Yes    28621\n",
       "Name: 26-35, dtype: int64"
      ]
     },
     "execution_count": 8,
     "metadata": {},
     "output_type": "execute_result"
    }
   ],
   "source": [
    "data['26-35'].value_counts()"
   ]
  },
  {
   "cell_type": "code",
   "execution_count": 9,
   "id": "ready-columbia",
   "metadata": {},
   "outputs": [
    {
     "data": {
      "text/plain": [
       "No     49143\n",
       "Yes    10803\n",
       "Name: 36-45, dtype: int64"
      ]
     },
     "execution_count": 9,
     "metadata": {},
     "output_type": "execute_result"
    }
   ],
   "source": [
    "data['36-45'].value_counts()"
   ]
  },
  {
   "cell_type": "code",
   "execution_count": 10,
   "id": "relevant-ordering",
   "metadata": {},
   "outputs": [
    {
     "data": {
      "text/plain": [
       "No     53878\n",
       "Yes     6068\n",
       "Name: 45-above, dtype: int64"
      ]
     },
     "execution_count": 10,
     "metadata": {},
     "output_type": "execute_result"
    }
   ],
   "source": [
    "data['45-above'].value_counts()"
   ]
  },
  {
   "cell_type": "code",
   "execution_count": 11,
   "id": "removed-trademark",
   "metadata": {
    "scrolled": true
   },
   "outputs": [],
   "source": [
    "age1 = [x for x in data['18-25'] if x == 'Yes']"
   ]
  },
  {
   "cell_type": "code",
   "execution_count": 12,
   "id": "convinced-negotiation",
   "metadata": {},
   "outputs": [],
   "source": [
    "age2 = [x for x in data['26-35'] if x == 'Yes']"
   ]
  },
  {
   "cell_type": "code",
   "execution_count": 13,
   "id": "satisfactory-dressing",
   "metadata": {},
   "outputs": [],
   "source": [
    "age3 = [x for x in data['36-45'] if x == 'Yes']"
   ]
  },
  {
   "cell_type": "code",
   "execution_count": 14,
   "id": "novel-power",
   "metadata": {},
   "outputs": [],
   "source": [
    "age4 = [x for x in data['45-above'] if x == 'Yes']"
   ]
  },
  {
   "cell_type": "code",
   "execution_count": 15,
   "id": "fossil-prospect",
   "metadata": {},
   "outputs": [],
   "source": [
    "dataPlot = {'18-25':len(age1), '26-25':len(age2), '36-45':len(age3),  \n",
    "        '45-above':len(age4)} \n",
    "ageType = list(dataPlot.keys()) \n",
    "count = list(dataPlot.values())"
   ]
  },
  {
   "cell_type": "code",
   "execution_count": 16,
   "id": "accessory-review",
   "metadata": {},
   "outputs": [
    {
     "data": {
      "image/png": "[encoded data removed]",
      "text/plain": [
       "<Figure size 1080x648 with 1 Axes>"
      ]
     },
     "metadata": {
      "needs_background": "light"
     },
     "output_type": "display_data"
    }
   ],
   "source": [
    "plt.figure(figsize=(15,9))\n",
    "plt.bar(ageType, count, width = 0.4)\n",
    "plt.show()"
   ]
  },
  {
   "cell_type": "code",
   "execution_count": 17,
   "id": "australian-jackson",
   "metadata": {},
   "outputs": [
    {
     "data": {
      "text/plain": [
       "18"
      ]
     },
     "execution_count": 17,
     "metadata": {},
     "output_type": "execute_result"
    }
   ],
   "source": [
    "data.diet.nunique()"
   ]
  },
  {
   "cell_type": "code",
   "execution_count": 18,
   "id": "local-generic",
   "metadata": {},
   "outputs": [
    {
     "data": {
      "text/plain": [
       "Index(['age', 'body_type', 'diet', 'drinks', 'drugs', 'education', 'essay0',\n",
       "       'essay1', 'essay2', 'essay3', 'essay4', 'essay5', 'essay6', 'essay7',\n",
       "       'essay8', 'essay9', 'ethnicity', 'height', 'income', 'job',\n",
       "       'last_online', 'location', 'offspring', 'orientation', 'pets',\n",
       "       'religion', 'sex', 'sign', 'smokes', 'speaks', 'status', '18-25',\n",
       "       '26-35', '36-45', '45-above'],\n",
       "      dtype='object')"
      ]
     },
     "execution_count": 18,
     "metadata": {},
     "output_type": "execute_result"
    }
   ],
   "source": [
    "data.columns"
   ]
  },
  {
   "cell_type": "code",
   "execution_count": 19,
   "id": "biological-roman",
   "metadata": {},
   "outputs": [
    {
     "data": {
      "text/plain": [
       "array(['socially', 'often', 'not at all', 'rarely', None, 'very often',\n",
       "       'desperately'], dtype=object)"
      ]
     },
     "execution_count": 19,
     "metadata": {},
     "output_type": "execute_result"
    }
   ],
   "source": [
    "data.drinks.unique()"
   ]
  },
  {
   "cell_type": "code",
   "execution_count": 20,
   "id": "demonstrated-serial",
   "metadata": {},
   "outputs": [],
   "source": [
    "drinksAge = {'18-25':data['18-25'], '26-35':data['26-35'], '36-45':data['36-45'],  \n",
    "        '45-above':data['45-above']} \n",
    "  \n",
    "drinksAge = pd.DataFrame(drinksAge) "
   ]
  },
  {
   "cell_type": "code",
   "execution_count": 21,
   "id": "narrative-polish",
   "metadata": {},
   "outputs": [
    {
     "data": {
      "text/plain": [
       "pandas.core.frame.DataFrame"
      ]
     },
     "execution_count": 21,
     "metadata": {},
     "output_type": "execute_result"
    }
   ],
   "source": [
    "type(drinksAge)"
   ]
  },
  {
   "cell_type": "code",
   "execution_count": 22,
   "id": "experimental-texas",
   "metadata": {},
   "outputs": [],
   "source": [
    "drinksAge['Socially'] = data['drinks'].apply(lambda x: 'Yes' if x == 'socially' else 'No')"
   ]
  },
  {
   "cell_type": "code",
   "execution_count": 23,
   "id": "basic-sauce",
   "metadata": {},
   "outputs": [],
   "source": [
    "drinksAge['often'] = data['drinks'].apply(lambda x: 'Yes' if x == 'often' else 'No')"
   ]
  },
  {
   "cell_type": "code",
   "execution_count": 24,
   "id": "bearing-function",
   "metadata": {},
   "outputs": [],
   "source": [
    "drinksAge['not at all'] = data['drinks'].apply(lambda x: 'Yes' if x == 'not at all' else 'No')"
   ]
  },
  {
   "cell_type": "code",
   "execution_count": 25,
   "id": "finnish-rating",
   "metadata": {},
   "outputs": [],
   "source": [
    "drinksAge['rarely'] = data['drinks'].apply(lambda x: 'Yes' if x == 'rarely' else 'No')"
   ]
  },
  {
   "cell_type": "code",
   "execution_count": 26,
   "id": "neural-currency",
   "metadata": {},
   "outputs": [],
   "source": [
    "drinksAge['None'] = data['drinks'].apply(lambda x: 'Yes' if x == 'None' else 'No')"
   ]
  },
  {
   "cell_type": "code",
   "execution_count": 27,
   "id": "preceding-engine",
   "metadata": {},
   "outputs": [],
   "source": [
    "drinksAge['very often'] = data['drinks'].apply(lambda x: 'Yes' if x == 'very often' else 'No')"
   ]
  },
  {
   "cell_type": "code",
   "execution_count": 28,
   "id": "exposed-daniel",
   "metadata": {},
   "outputs": [],
   "source": [
    "drinksAge['desperately'] = data['drinks'].apply(lambda x: 'Yes' if x == 'desperately' else 'No')"
   ]
  },
  {
   "cell_type": "code",
   "execution_count": 29,
   "id": "gentle-establishment",
   "metadata": {},
   "outputs": [
    {
     "data": {
      "text/html": [
       "<div>\n",
       "<style scoped>\n",
       "    .dataframe tbody tr th:only-of-type {\n",
       "        vertical-align: middle;\n",
       "    }\n",
       "\n",
       "    .dataframe tbody tr th {\n",
       "        vertical-align: top;\n",
       "    }\n",
       "\n",
       "    .dataframe thead th {\n",
       "        text-align: right;\n",
       "    }\n",
       "</style>\n",
       "<table border=\"1\" class=\"dataframe\">\n",
       "  <thead>\n",
       "    <tr style=\"text-align: right;\">\n",
       "      <th></th>\n",
       "      <th>18-25</th>\n",
       "      <th>26-35</th>\n",
       "      <th>36-45</th>\n",
       "      <th>45-above</th>\n",
       "      <th>Socially</th>\n",
       "      <th>often</th>\n",
       "      <th>not at all</th>\n",
       "      <th>rarely</th>\n",
       "      <th>None</th>\n",
       "      <th>very often</th>\n",
       "      <th>desperately</th>\n",
       "    </tr>\n",
       "  </thead>\n",
       "  <tbody>\n",
       "    <tr>\n",
       "      <th>0</th>\n",
       "      <td>Yes</td>\n",
       "      <td>No</td>\n",
       "      <td>No</td>\n",
       "      <td>No</td>\n",
       "      <td>Yes</td>\n",
       "      <td>No</td>\n",
       "      <td>No</td>\n",
       "      <td>No</td>\n",
       "      <td>No</td>\n",
       "      <td>No</td>\n",
       "      <td>No</td>\n",
       "    </tr>\n",
       "    <tr>\n",
       "      <th>1</th>\n",
       "      <td>No</td>\n",
       "      <td>Yes</td>\n",
       "      <td>No</td>\n",
       "      <td>No</td>\n",
       "      <td>No</td>\n",
       "      <td>Yes</td>\n",
       "      <td>No</td>\n",
       "      <td>No</td>\n",
       "      <td>No</td>\n",
       "      <td>No</td>\n",
       "      <td>No</td>\n",
       "    </tr>\n",
       "    <tr>\n",
       "      <th>2</th>\n",
       "      <td>No</td>\n",
       "      <td>No</td>\n",
       "      <td>Yes</td>\n",
       "      <td>No</td>\n",
       "      <td>Yes</td>\n",
       "      <td>No</td>\n",
       "      <td>No</td>\n",
       "      <td>No</td>\n",
       "      <td>No</td>\n",
       "      <td>No</td>\n",
       "      <td>No</td>\n",
       "    </tr>\n",
       "    <tr>\n",
       "      <th>3</th>\n",
       "      <td>Yes</td>\n",
       "      <td>No</td>\n",
       "      <td>No</td>\n",
       "      <td>No</td>\n",
       "      <td>Yes</td>\n",
       "      <td>No</td>\n",
       "      <td>No</td>\n",
       "      <td>No</td>\n",
       "      <td>No</td>\n",
       "      <td>No</td>\n",
       "      <td>No</td>\n",
       "    </tr>\n",
       "    <tr>\n",
       "      <th>4</th>\n",
       "      <td>No</td>\n",
       "      <td>Yes</td>\n",
       "      <td>No</td>\n",
       "      <td>No</td>\n",
       "      <td>Yes</td>\n",
       "      <td>No</td>\n",
       "      <td>No</td>\n",
       "      <td>No</td>\n",
       "      <td>No</td>\n",
       "      <td>No</td>\n",
       "      <td>No</td>\n",
       "    </tr>\n",
       "    <tr>\n",
       "      <th>...</th>\n",
       "      <td>...</td>\n",
       "      <td>...</td>\n",
       "      <td>...</td>\n",
       "      <td>...</td>\n",
       "      <td>...</td>\n",
       "      <td>...</td>\n",
       "      <td>...</td>\n",
       "      <td>...</td>\n",
       "      <td>...</td>\n",
       "      <td>...</td>\n",
       "      <td>...</td>\n",
       "    </tr>\n",
       "    <tr>\n",
       "      <th>59941</th>\n",
       "      <td>No</td>\n",
       "      <td>No</td>\n",
       "      <td>No</td>\n",
       "      <td>Yes</td>\n",
       "      <td>Yes</td>\n",
       "      <td>No</td>\n",
       "      <td>No</td>\n",
       "      <td>No</td>\n",
       "      <td>No</td>\n",
       "      <td>No</td>\n",
       "      <td>No</td>\n",
       "    </tr>\n",
       "    <tr>\n",
       "      <th>59942</th>\n",
       "      <td>Yes</td>\n",
       "      <td>No</td>\n",
       "      <td>No</td>\n",
       "      <td>No</td>\n",
       "      <td>No</td>\n",
       "      <td>Yes</td>\n",
       "      <td>No</td>\n",
       "      <td>No</td>\n",
       "      <td>No</td>\n",
       "      <td>No</td>\n",
       "      <td>No</td>\n",
       "    </tr>\n",
       "    <tr>\n",
       "      <th>59943</th>\n",
       "      <td>No</td>\n",
       "      <td>No</td>\n",
       "      <td>Yes</td>\n",
       "      <td>No</td>\n",
       "      <td>No</td>\n",
       "      <td>No</td>\n",
       "      <td>Yes</td>\n",
       "      <td>No</td>\n",
       "      <td>No</td>\n",
       "      <td>No</td>\n",
       "      <td>No</td>\n",
       "    </tr>\n",
       "    <tr>\n",
       "      <th>59944</th>\n",
       "      <td>No</td>\n",
       "      <td>Yes</td>\n",
       "      <td>No</td>\n",
       "      <td>No</td>\n",
       "      <td>Yes</td>\n",
       "      <td>No</td>\n",
       "      <td>No</td>\n",
       "      <td>No</td>\n",
       "      <td>No</td>\n",
       "      <td>No</td>\n",
       "      <td>No</td>\n",
       "    </tr>\n",
       "    <tr>\n",
       "      <th>59945</th>\n",
       "      <td>No</td>\n",
       "      <td>No</td>\n",
       "      <td>Yes</td>\n",
       "      <td>No</td>\n",
       "      <td>Yes</td>\n",
       "      <td>No</td>\n",
       "      <td>No</td>\n",
       "      <td>No</td>\n",
       "      <td>No</td>\n",
       "      <td>No</td>\n",
       "      <td>No</td>\n",
       "    </tr>\n",
       "  </tbody>\n",
       "</table>\n",
       "<p>59946 rows × 11 columns</p>\n",
       "</div>"
      ],
      "text/plain": [
       "      18-25 26-35 36-45 45-above Socially often not at all rarely None  \\\n",
       "0       Yes    No    No       No      Yes    No         No     No   No   \n",
       "1        No   Yes    No       No       No   Yes         No     No   No   \n",
       "2        No    No   Yes       No      Yes    No         No     No   No   \n",
       "3       Yes    No    No       No      Yes    No         No     No   No   \n",
       "4        No   Yes    No       No      Yes    No         No     No   No   \n",
       "...     ...   ...   ...      ...      ...   ...        ...    ...  ...   \n",
       "59941    No    No    No      Yes      Yes    No         No     No   No   \n",
       "59942   Yes    No    No       No       No   Yes         No     No   No   \n",
       "59943    No    No   Yes       No       No    No        Yes     No   No   \n",
       "59944    No   Yes    No       No      Yes    No         No     No   No   \n",
       "59945    No    No   Yes       No      Yes    No         No     No   No   \n",
       "\n",
       "      very often desperately  \n",
       "0             No          No  \n",
       "1             No          No  \n",
       "2             No          No  \n",
       "3             No          No  \n",
       "4             No          No  \n",
       "...          ...         ...  \n",
       "59941         No          No  \n",
       "59942         No          No  \n",
       "59943         No          No  \n",
       "59944         No          No  \n",
       "59945         No          No  \n",
       "\n",
       "[59946 rows x 11 columns]"
      ]
     },
     "execution_count": 29,
     "metadata": {},
     "output_type": "execute_result"
    }
   ],
   "source": [
    "drinksAge"
   ]
  },
  {
   "cell_type": "code",
   "execution_count": 30,
   "id": "beneficial-poster",
   "metadata": {},
   "outputs": [],
   "source": [
    "sociallyYes = [x for x in drinksAge['Socially'] if x == 'Yes']\n",
    "sociallyNo = [x for x in drinksAge['Socially'] if x == 'No']\n",
    "oftenYes = [x for x in drinksAge['often'] if x == 'Yes']\n",
    "oftenNo = [x for x in drinksAge['often'] if x == 'No']\n",
    "notYes = [x for x in drinksAge['not at all'] if x == 'Yes']\n",
    "notNo = [x for x in drinksAge['not at all'] if x == 'No']\n",
    "rarelyYes = [x for x in drinksAge['rarely'] if x == 'Yes']\n",
    "rarelyNo = [x for x in drinksAge['rarely'] if x == 'No']\n",
    "NoneYes = [x for x in drinksAge['None'] if x == 'Yes']\n",
    "NoneNo = [x for x in drinksAge['None'] if x == 'No']\n",
    "veryoftenYes = [x for x in drinksAge['very often'] if x == 'Yes']\n",
    "veryoftenNo = [x for x in drinksAge['very often'] if x == 'No']\n",
    "desperatelyYes = [x for x in drinksAge['desperately'] if x == 'Yes']\n",
    "desperatelyNo = [x for x in drinksAge['desperately'] if x == 'No']"
   ]
  },
  {
   "cell_type": "code",
   "execution_count": 31,
   "id": "verbal-norfolk",
   "metadata": {},
   "outputs": [
    {
     "data": {
      "image/png": "[encoded data removed]",
      "text/plain": [
       "<Figure size 1080x504 with 1 Axes>"
      ]
     },
     "metadata": {
      "needs_background": "light"
     },
     "output_type": "display_data"
    }
   ],
   "source": [
    "labels = ['socially', 'often', 'not at all', 'rarely', 'None', 'very often',\n",
    "       'desperately']\n",
    "yesGroup = [len(sociallyYes), len(oftenYes), len(notYes), \n",
    "            len(rarelyYes), len(NoneYes), len(veryoftenYes), len(desperatelyYes)]\n",
    "noGroup =[len(sociallyNo), len(oftenNo), len(notNo), \n",
    "          len(rarelyNo), len(NoneNo), len(veryoftenNo), len(desperatelyNo)]\n",
    "\n",
    "x = np.arange(len(labels))  # the label locations\n",
    "width = 0.35  # the width of the bars\n",
    "\n",
    "fig, ax = plt.subplots(figsize=(15,7))\n",
    "rects1 = ax.bar(x - width/2, yesGroup, width, label='Yes')\n",
    "rects2 = ax.bar(x + width/2, noGroup, width, label='No')\n",
    "\n",
    "# Add some text for labels, title and custom x-axis tick labels, etc.\n",
    "ax.set_ylabel(\"Number of People's\")\n",
    "ax.set_xlabel(\"Types of drinks\")\n",
    "ax.set_title(\"Number of People's having the drinks\")\n",
    "ax.set_xticks(x)\n",
    "ax.set_xticklabels(labels)\n",
    "ax.legend()\n",
    "\n",
    "\n",
    "def autolabel(rects):\n",
    "    \"\"\"Attach a text label above each bar in *rects*, displaying its height.\"\"\"\n",
    "    for rect in rects:\n",
    "        height = rect.get_height()\n",
    "        ax.annotate('{}'.format(height),\n",
    "                    xy=(rect.get_x() + rect.get_width() / 2, height),\n",
    "                    xytext=(0, 3),  # 3 points vertical offset\n",
    "                    textcoords=\"offset points\",\n",
    "                    ha='center', va='bottom')\n",
    "\n",
    "\n",
    "autolabel(rects1)\n",
    "autolabel(rects2)\n",
    "\n",
    "fig.tight_layout()\n",
    "\n",
    "plt.show()"
   ]
  },
  {
   "cell_type": "code",
   "execution_count": 32,
   "id": "corrected-ladder",
   "metadata": {},
   "outputs": [],
   "source": [
    "def countValue(ageGroup, column):\n",
    "    yesCount = 0\n",
    "    noCount = 0\n",
    "    for group, val in zip(drinksAge[ageGroup], drinksAge[column]):\n",
    "        if group == 'Yes' and val == 'Yes':\n",
    "            yesCount += 1\n",
    "        elif group == 'Yes' and val == 'No':\n",
    "            noCount += 1\n",
    "        else:\n",
    "            continue\n",
    "    return yesCount, noCount        "
   ]
  },
  {
   "cell_type": "code",
   "execution_count": 33,
   "id": "worst-cycling",
   "metadata": {},
   "outputs": [
    {
     "data": {
      "image/png": "[encoded data removed]",
      "text/plain": [
       "<Figure size 1080x504 with 1 Axes>"
      ]
     },
     "metadata": {
      "needs_background": "light"
     },
     "output_type": "display_data"
    }
   ],
   "source": [
    "labels = ['socially', 'often', 'not at all', 'rarely', 'None', 'very often',\n",
    "       'desperately']\n",
    "yesGroup = [countValue('18-25', 'Socially')[0], countValue('18-25', 'often')[0], \n",
    "            countValue('18-25', 'not at all')[0], countValue('18-25', 'rarely')[0], \n",
    "            countValue('18-25', 'None')[0], countValue('18-25', 'very often')[0], \n",
    "            countValue('18-25', 'desperately')[0]]\n",
    "noGroup =[countValue('18-25', 'Socially')[1], countValue('18-25', 'often')[1], \n",
    "          countValue('18-25', 'not at all')[1], countValue('18-25', 'rarely')[1], \n",
    "          countValue('18-25', 'Socially')[1], countValue('18-25', 'very often')[1], \n",
    "          countValue('18-25', 'desperately')[1]]\n",
    "\n",
    "x = np.arange(len(labels))  # the label locations\n",
    "width = 0.35  # the width of the bars\n",
    "\n",
    "fig, ax = plt.subplots(figsize=(15,7))\n",
    "rects1 = ax.bar(x - width/2, yesGroup, width, label='Yes')\n",
    "rects2 = ax.bar(x + width/2, noGroup, width, label='No')\n",
    "\n",
    "# Add some text for labels, title and custom x-axis tick labels, etc.\n",
    "ax.set_ylabel(\"Number of People's\")\n",
    "ax.set_xlabel(\"Types of drinks\")\n",
    "ax.set_title(\"Different drinks taken by age Group of 18-25\")\n",
    "ax.set_xticks(x)\n",
    "ax.set_xticklabels(labels)\n",
    "ax.legend()\n",
    "\n",
    "autolabel(rects1)\n",
    "autolabel(rects2)\n",
    "\n",
    "fig.tight_layout()\n",
    "\n",
    "plt.show()"
   ]
  },
  {
   "cell_type": "code",
   "execution_count": 34,
   "id": "unlimited-blood",
   "metadata": {},
   "outputs": [
    {
     "data": {
      "image/png": "[encoded data removed]",
      "text/plain": [
       "<Figure size 1080x504 with 1 Axes>"
      ]
     },
     "metadata": {
      "needs_background": "light"
     },
     "output_type": "display_data"
    }
   ],
   "source": [
    "labels = ['socially', 'often', 'not at all', 'rarely', 'None', 'very often',\n",
    "       'desperately']\n",
    "yesGroup = [countValue('26-35', 'Socially')[0], countValue('26-35', 'often')[0], \n",
    "            countValue('26-35', 'not at all')[0], countValue('26-35', 'rarely')[0], \n",
    "            countValue('26-35', 'None')[0], countValue('26-35', 'very often')[0], \n",
    "            countValue('26-35', 'desperately')[0]]\n",
    "noGroup =[countValue('26-35', 'Socially')[1], countValue('26-35', 'often')[1], \n",
    "          countValue('26-35', 'not at all')[1], countValue('26-35', 'rarely')[1], \n",
    "          countValue('26-35', 'Socially')[1], countValue('26-35', 'very often')[1], \n",
    "          countValue('26-35', 'desperately')[1]]\n",
    "\n",
    "x = np.arange(len(labels))  # the label locations\n",
    "width = 0.35  # the width of the bars\n",
    "\n",
    "fig, ax = plt.subplots(figsize=(15,7))\n",
    "rects1 = ax.bar(x - width/2, yesGroup, width, label='Yes')\n",
    "rects2 = ax.bar(x + width/2, noGroup, width, label='No')\n",
    "\n",
    "# Add some text for labels, title and custom x-axis tick labels, etc.\n",
    "ax.set_ylabel(\"Number of People's\")\n",
    "ax.set_xlabel(\"Types of drinks\")\n",
    "ax.set_title(\"Different drinks taken by age Group of 26-35\")\n",
    "ax.set_xticks(x)\n",
    "ax.set_xticklabels(labels)\n",
    "ax.legend()\n",
    "\n",
    "autolabel(rects1)\n",
    "autolabel(rects2)\n",
    "\n",
    "fig.tight_layout()\n",
    "\n",
    "plt.show()"
   ]
  },
  {
   "cell_type": "code",
   "execution_count": 35,
   "id": "tender-judges",
   "metadata": {},
   "outputs": [
    {
     "data": {
      "image/png": "[encoded data removed]",
      "text/plain": [
       "<Figure size 1080x504 with 1 Axes>"
      ]
     },
     "metadata": {
      "needs_background": "light"
     },
     "output_type": "display_data"
    }
   ],
   "source": [
    "labels = ['socially', 'often', 'not at all', 'rarely', 'None', 'very often',\n",
    "       'desperately']\n",
    "yesGroup = [countValue('36-45', 'Socially')[0], countValue('36-45', 'often')[0], \n",
    "            countValue('36-45', 'not at all')[0], countValue('36-45', 'rarely')[0], \n",
    "            countValue('36-45', 'None')[0], countValue('36-45', 'very often')[0], \n",
    "            countValue('36-45', 'desperately')[0]]\n",
    "noGroup =[countValue('36-45', 'Socially')[1], countValue('36-45', 'often')[1], \n",
    "          countValue('36-45', 'not at all')[1], countValue('36-45', 'rarely')[1], \n",
    "          countValue('36-45', 'Socially')[1], countValue('36-45', 'very often')[1], \n",
    "          countValue('36-45', 'desperately')[1]]\n",
    "\n",
    "x = np.arange(len(labels))  # the label locations\n",
    "width = 0.35  # the width of the bars\n",
    "\n",
    "fig, ax = plt.subplots(figsize=(15,7))\n",
    "rects1 = ax.bar(x - width/2, yesGroup, width, label='Yes')\n",
    "rects2 = ax.bar(x + width/2, noGroup, width, label='No')\n",
    "\n",
    "# Add some text for labels, title and custom x-axis tick labels, etc.\n",
    "ax.set_ylabel(\"Number of People's\")\n",
    "ax.set_xlabel(\"Types of drinks\")\n",
    "ax.set_title(\"Different drinks taken by age Group of 36-45\")\n",
    "ax.set_xticks(x)\n",
    "ax.set_xticklabels(labels)\n",
    "ax.legend()\n",
    "\n",
    "autolabel(rects1)\n",
    "autolabel(rects2)\n",
    "\n",
    "fig.tight_layout()\n",
    "\n",
    "plt.show()"
   ]
  },
  {
   "cell_type": "code",
   "execution_count": 36,
   "id": "boring-experience",
   "metadata": {},
   "outputs": [
    {
     "data": {
      "image/png": "[encoded data removed]",
      "text/plain": [
       "<Figure size 1080x504 with 1 Axes>"
      ]
     },
     "metadata": {
      "needs_background": "light"
     },
     "output_type": "display_data"
    }
   ],
   "source": [
    "labels = ['socially', 'often', 'not at all', 'rarely', 'None', 'very often',\n",
    "       'desperately']\n",
    "yesGroup = [countValue('45-above', 'Socially')[0], countValue('45-above', 'often')[0], \n",
    "            countValue('45-above', 'not at all')[0], countValue('45-above', 'rarely')[0], \n",
    "            countValue('45-above', 'None')[0], countValue('45-above', 'very often')[0], \n",
    "            countValue('45-above', 'desperately')[0]]\n",
    "noGroup =[countValue('45-above', 'Socially')[1], countValue('45-above', 'often')[1], \n",
    "          countValue('45-above', 'not at all')[1], countValue('45-above', 'rarely')[1], \n",
    "          countValue('45-above', 'Socially')[1], countValue('45-above', 'very often')[1], \n",
    "          countValue('45-above', 'desperately')[1]]\n",
    "\n",
    "x = np.arange(len(labels))  # the label locations\n",
    "width = 0.35  # the width of the bars\n",
    "\n",
    "fig, ax = plt.subplots(figsize=(15,7))\n",
    "rects1 = ax.bar(x - width/2, yesGroup, width, label='Yes')\n",
    "rects2 = ax.bar(x + width/2, noGroup, width, label='No')\n",
    "\n",
    "# Add some text for labels, title and custom x-axis tick labels, etc.\n",
    "ax.set_ylabel(\"Number of People's\")\n",
    "ax.set_xlabel(\"Types of drinks\")\n",
    "ax.set_title(\"Different drinks taken by age Group of 45-above\")\n",
    "ax.set_xticks(x)\n",
    "ax.set_xticklabels(labels)\n",
    "ax.legend()\n",
    "\n",
    "autolabel(rects1)\n",
    "autolabel(rects2)\n",
    "\n",
    "fig.tight_layout()\n",
    "\n",
    "plt.show()"
   ]
  },
  {
   "cell_type": "raw",
   "id": "human-innocent",
   "metadata": {},
   "source": [
    "Make a visualization to show the age distribution of male and females."
   ]
  },
  {
   "cell_type": "code",
   "execution_count": 37,
   "id": "opposed-publisher",
   "metadata": {},
   "outputs": [
    {
     "data": {
      "text/plain": [
       "<Figure size 1080x504 with 0 Axes>"
      ]
     },
     "metadata": {},
     "output_type": "display_data"
    },
    {
     "data": {
      "image/png": "[encoded data removed]",
      "text/plain": [
       "<Figure size 765.625x360 with 1 Axes>"
      ]
     },
     "metadata": {
      "needs_background": "light"
     },
     "output_type": "display_data"
    }
   ],
   "source": [
    "plt.figure(figsize=(15, 7))\n",
    "sns.catplot(x='age', data = data, kind='count', palette='pastel', hue='sex', \n",
    "            height=5, # make the plot 5 units high\n",
    "            aspect=2)\n",
    "plt.xticks(rotation = 25)\n",
    "plt.title('Age distribution')\n",
    "plt.show()"
   ]
  },
  {
   "cell_type": "raw",
   "id": "comic-pottery",
   "metadata": {},
   "source": [
    "orientation (in percentage) of male and females. Represent using a suitable graph."
   ]
  },
  {
   "cell_type": "code",
   "execution_count": 38,
   "id": "existing-fantasy",
   "metadata": {},
   "outputs": [],
   "source": [
    "def show_percetage(plot, feature):\n",
    "    total = len(feature)\n",
    "    for p in ax.patches:\n",
    "        percentage = '{:.1f}%'.format(100 * p.get_height()/total)\n",
    "        x = p.get_x()+p.get_width()/2-0.1\n",
    "        y = p.get_y()+p.get_height()\n",
    "        ax.annotate(percentage, (x, y), size=10)"
   ]
  },
  {
   "cell_type": "code",
   "execution_count": 39,
   "id": "filled-coalition",
   "metadata": {},
   "outputs": [
    {
     "data": {
      "image/png": "[encoded data removed]",
      "text/plain": [
       "<Figure size 1080x720 with 1 Axes>"
      ]
     },
     "metadata": {
      "needs_background": "light"
     },
     "output_type": "display_data"
    }
   ],
   "source": [
    "plt.figure(figsize=(15, 10))\n",
    "ax = sns.countplot(x='orientation', data=data, \n",
    "                   hue='sex', \n",
    "                   palette='PRGn',\n",
    "                   order=['straight', 'gay', 'bisexual']) \n",
    "total = float(len(data))\n",
    "show_percetage(ax, data)\n",
    "plt.show()"
   ]
  },
  {
   "cell_type": "raw",
   "id": "formal-supply",
   "metadata": {},
   "source": [
    "Find the percentage of body types by gender. Represent using a suitable graph."
   ]
  },
  {
   "cell_type": "code",
   "execution_count": 40,
   "id": "behind-intervention",
   "metadata": {},
   "outputs": [
    {
     "data": {
      "image/png": "[encoded data removed]",
      "text/plain": [
       "<Figure size 1080x720 with 1 Axes>"
      ]
     },
     "metadata": {
      "needs_background": "light"
     },
     "output_type": "display_data"
    }
   ],
   "source": [
    "plt.figure(figsize=(15, 10))\n",
    "ax = sns.countplot(x='body_type', data=data, \n",
    "                   hue='sex', \n",
    "                   palette='rocket',\n",
    "                   order=data['body_type'].value_counts().iloc[:].index)\n",
    "ax.set_title(\"Body type by gender\")\n",
    "ax.set(xlabel='Count', ylabel='Body Type') \n",
    "show_percetage(ax, data)\n",
    "plt.show()"
   ]
  },
  {
   "cell_type": "raw",
   "id": "located-sheet",
   "metadata": {},
   "source": [
    "different diets by gender. Represent using suitable graph"
   ]
  },
  {
   "cell_type": "code",
   "execution_count": 41,
   "id": "lined-gasoline",
   "metadata": {},
   "outputs": [
    {
     "data": {
      "image/png": "[encoded data removed]",
      "text/plain": [
       "<Figure size 1080x720 with 1 Axes>"
      ]
     },
     "metadata": {
      "needs_background": "light"
     },
     "output_type": "display_data"
    }
   ],
   "source": [
    "plt.figure(figsize=(15, 10))\n",
    "pr = sns.countplot(x='diet', data=data, \n",
    "                   hue='sex', palette='Paired',\n",
    "                   order = data['diet'].value_counts().iloc[:].index) \n",
    "plt.xticks(rotation = 30)\n",
    "pr.set_title(\"Diet by gender\")\n",
    "show_percetage(pr, data)\n"
   ]
  },
  {
   "cell_type": "raw",
   "id": "developmental-pregnancy",
   "metadata": {},
   "source": [
    "Compare jobs of males and females. Represent using suitable graphs"
   ]
  },
  {
   "cell_type": "code",
   "execution_count": 42,
   "id": "complex-sacramento",
   "metadata": {},
   "outputs": [
    {
     "data": {
      "image/png": "[encoded data removed]",
      "text/plain": [
       "<Figure size 648x360 with 1 Axes>"
      ]
     },
     "metadata": {
      "needs_background": "light"
     },
     "output_type": "display_data"
    }
   ],
   "source": [
    "plt.figure(figsize=(9, 5))\n",
    "sns.countplot(y='job', data=data, \n",
    "              hue='sex', palette='Reds',\n",
    "              order = data['job'].value_counts().iloc[:10].index)\n",
    "plt.show()"
   ]
  },
  {
   "cell_type": "raw",
   "id": "immediate-bangkok",
   "metadata": {},
   "source": [
    "Compare pets of different gender. Represent using suitable graphs."
   ]
  },
  {
   "cell_type": "code",
   "execution_count": 43,
   "id": "bridal-emission",
   "metadata": {},
   "outputs": [
    {
     "data": {
      "image/png": "[encoded data removed]",
      "text/plain": [
       "<Figure size 648x360 with 1 Axes>"
      ]
     },
     "metadata": {
      "needs_background": "light"
     },
     "output_type": "display_data"
    }
   ],
   "source": [
    "plt.figure(figsize=(9, 5))\n",
    "sns.countplot(y = 'pets', data=data, \n",
    "              hue='sex', palette='PuRd',\n",
    "              order=data['pets'].value_counts().iloc[:].index)\n",
    "plt.show()"
   ]
  },
  {
   "cell_type": "markdown",
   "id": "plastic-miniature",
   "metadata": {},
   "source": [
    "# Machine Learning Models"
   ]
  },
  {
   "cell_type": "markdown",
   "id": "typical-executive",
   "metadata": {},
   "source": [
    "## Use Classification Techniques"
   ]
  },
  {
   "cell_type": "raw",
   "id": "joined-arbitration",
   "metadata": {},
   "source": [
    "Can we predict sex with education level and income??\n",
    "Can we predict education level with essay text word counts?"
   ]
  },
  {
   "cell_type": "markdown",
   "id": "first-fields",
   "metadata": {},
   "source": [
    "## Use Regression Techniques "
   ]
  },
  {
   "cell_type": "raw",
   "id": "advanced-relief",
   "metadata": {},
   "source": [
    "Predict income with length of essays and average word length?\n",
    "Predict age with the frequency of “I” or “me” in essays?"
   ]
  },
  {
   "cell_type": "code",
   "execution_count": 94,
   "id": "virtual-century",
   "metadata": {},
   "outputs": [],
   "source": [
    "drink_mapping = {\"not at all\": 0, \"rarely\": 1, \"socially\": 2, \"often\": 3, \"very often\": 4, \"desperately\": 5}"
   ]
  },
  {
   "cell_type": "code",
   "execution_count": 121,
   "id": "grateful-married",
   "metadata": {},
   "outputs": [],
   "source": [
    "data[\"drinks\"] = data[\"drinks\"].astype('category')"
   ]
  },
  {
   "cell_type": "code",
   "execution_count": 122,
   "id": "understood-jason",
   "metadata": {},
   "outputs": [],
   "source": [
    "data['drinks'] = data['drinks'].fillna('not at all')"
   ]
  },
  {
   "cell_type": "code",
   "execution_count": 123,
   "id": "supported-school",
   "metadata": {},
   "outputs": [
    {
     "data": {
      "text/plain": [
       "0"
      ]
     },
     "execution_count": 123,
     "metadata": {},
     "output_type": "execute_result"
    }
   ],
   "source": [
    "data.drinks.isnull().sum()"
   ]
  },
  {
   "cell_type": "code",
   "execution_count": 124,
   "id": "heard-george",
   "metadata": {},
   "outputs": [],
   "source": [
    "data[\"drinks_code\"] = data[\"drinks\"].cat.codes"
   ]
  },
  {
   "cell_type": "code",
   "execution_count": 125,
   "id": "processed-sheep",
   "metadata": {},
   "outputs": [
    {
     "data": {
      "text/plain": [
       "0        4\n",
       "1        2\n",
       "2        4\n",
       "3        4\n",
       "4        4\n",
       "        ..\n",
       "59941    4\n",
       "59942    2\n",
       "59943    1\n",
       "59944    4\n",
       "59945    4\n",
       "Name: drinks_code, Length: 59946, dtype: int8"
      ]
     },
     "execution_count": 125,
     "metadata": {},
     "output_type": "execute_result"
    }
   ],
   "source": [
    "data.drinks_code"
   ]
  },
  {
   "cell_type": "code",
   "execution_count": 126,
   "id": "invalid-henry",
   "metadata": {},
   "outputs": [
    {
     "data": {
      "text/plain": [
       "Index(['age', 'body_type', 'diet', 'drinks', 'drugs', 'education', 'essay0',\n",
       "       'essay1', 'essay2', 'essay3', 'essay4', 'essay5', 'essay6', 'essay7',\n",
       "       'essay8', 'essay9', 'ethnicity', 'height', 'income', 'job',\n",
       "       'last_online', 'location', 'offspring', 'orientation', 'pets',\n",
       "       'religion', 'sex', 'sign', 'smokes', 'speaks', 'status', 'drinks_code'],\n",
       "      dtype='object')"
      ]
     },
     "execution_count": 126,
     "metadata": {},
     "output_type": "execute_result"
    }
   ],
   "source": [
    "data.columns"
   ]
  },
  {
   "cell_type": "code",
   "execution_count": 127,
   "id": "million-depth",
   "metadata": {},
   "outputs": [
    {
     "data": {
      "text/plain": [
       "32"
      ]
     },
     "execution_count": 127,
     "metadata": {},
     "output_type": "execute_result"
    }
   ],
   "source": [
    "data.education.nunique()"
   ]
  },
  {
   "cell_type": "code",
   "execution_count": 128,
   "id": "explicit-brass",
   "metadata": {},
   "outputs": [
    {
     "data": {
      "text/plain": [
       "0"
      ]
     },
     "execution_count": 128,
     "metadata": {},
     "output_type": "execute_result"
    }
   ],
   "source": [
    "data.income.isnull().sum()"
   ]
  },
  {
   "cell_type": "code",
   "execution_count": 129,
   "id": "loved-tutorial",
   "metadata": {},
   "outputs": [
    {
     "data": {
      "text/plain": [
       "array(['a little extra', 'average', 'thin', 'athletic', 'fit', None,\n",
       "       'skinny', 'curvy', 'full figured', 'jacked', 'rather not say',\n",
       "       'used up', 'overweight'], dtype=object)"
      ]
     },
     "execution_count": 129,
     "metadata": {},
     "output_type": "execute_result"
    }
   ],
   "source": [
    "data.body_type.unique()"
   ]
  },
  {
   "cell_type": "code",
   "execution_count": 130,
   "id": "under-meaning",
   "metadata": {},
   "outputs": [
    {
     "data": {
      "text/plain": [
       "5296"
      ]
     },
     "execution_count": 130,
     "metadata": {},
     "output_type": "execute_result"
    }
   ],
   "source": [
    "data.body_type.isnull().sum()"
   ]
  },
  {
   "cell_type": "code",
   "execution_count": 131,
   "id": "right-stevens",
   "metadata": {},
   "outputs": [],
   "source": [
    "data['body_type'] = data['body_type'].fillna('rather not say')"
   ]
  },
  {
   "cell_type": "code",
   "execution_count": 132,
   "id": "front-manitoba",
   "metadata": {},
   "outputs": [],
   "source": [
    "data[\"body_type\"] = data[\"body_type\"].astype('category')"
   ]
  },
  {
   "cell_type": "code",
   "execution_count": 133,
   "id": "based-aruba",
   "metadata": {},
   "outputs": [
    {
     "data": {
      "text/plain": [
       "0"
      ]
     },
     "execution_count": 133,
     "metadata": {},
     "output_type": "execute_result"
    }
   ],
   "source": [
    "data.body_type.isnull().sum()"
   ]
  },
  {
   "cell_type": "code",
   "execution_count": 134,
   "id": "prepared-civilization",
   "metadata": {},
   "outputs": [
    {
     "data": {
      "text/plain": [
       "['a little extra', 'average', 'thin', 'athletic', 'fit', ..., 'curvy', 'full figured', 'jacked', 'used up', 'overweight']\n",
       "Length: 12\n",
       "Categories (12, object): ['a little extra', 'average', 'thin', 'athletic', ..., 'full figured', 'jacked', 'used up', 'overweight']"
      ]
     },
     "execution_count": 134,
     "metadata": {},
     "output_type": "execute_result"
    }
   ],
   "source": [
    "data.body_type.unique()"
   ]
  },
  {
   "cell_type": "code",
   "execution_count": 135,
   "id": "abandoned-renewal",
   "metadata": {},
   "outputs": [
    {
     "data": {
      "text/plain": [
       "['a little extra', 'average', 'thin', 'athletic', 'fit', ..., 'curvy', 'full figured', 'jacked', 'used up', 'overweight']\n",
       "Length: 12\n",
       "Categories (12, object): ['a little extra', 'average', 'thin', 'athletic', ..., 'full figured', 'jacked', 'used up', 'overweight']"
      ]
     },
     "execution_count": 135,
     "metadata": {},
     "output_type": "execute_result"
    }
   ],
   "source": [
    "data.body_type.unique()"
   ]
  },
  {
   "cell_type": "code",
   "execution_count": 136,
   "id": "sixth-apple",
   "metadata": {},
   "outputs": [],
   "source": [
    "data[\"body_type_code\"] = data[\"body_type\"].cat.codes"
   ]
  },
  {
   "cell_type": "code",
   "execution_count": 137,
   "id": "technical-license",
   "metadata": {},
   "outputs": [
    {
     "data": {
      "text/plain": [
       "array(['strictly anything', 'mostly other', 'anything', 'vegetarian',\n",
       "       None, 'mostly anything', 'mostly vegetarian', 'strictly vegan',\n",
       "       'strictly vegetarian', 'mostly vegan', 'strictly other',\n",
       "       'mostly halal', 'other', 'vegan', 'mostly kosher',\n",
       "       'strictly halal', 'halal', 'strictly kosher', 'kosher'],\n",
       "      dtype=object)"
      ]
     },
     "execution_count": 137,
     "metadata": {},
     "output_type": "execute_result"
    }
   ],
   "source": [
    "data.diet.unique()"
   ]
  },
  {
   "cell_type": "code",
   "execution_count": 138,
   "id": "considered-criticism",
   "metadata": {},
   "outputs": [
    {
     "data": {
      "text/plain": [
       "array([ 0,  2, 10,  1,  4,  8,  9,  3,  5,  6, 11,  7], dtype=int8)"
      ]
     },
     "execution_count": 138,
     "metadata": {},
     "output_type": "execute_result"
    }
   ],
   "source": [
    "data.body_type_code.unique()"
   ]
  },
  {
   "cell_type": "code",
   "execution_count": 139,
   "id": "unusual-examination",
   "metadata": {},
   "outputs": [
    {
     "data": {
      "text/plain": [
       "array(['straight', 'bisexual', 'gay'], dtype=object)"
      ]
     },
     "execution_count": 139,
     "metadata": {},
     "output_type": "execute_result"
    }
   ],
   "source": [
    "data.orientation.unique()"
   ]
  },
  {
   "cell_type": "code",
   "execution_count": 140,
   "id": "applied-scope",
   "metadata": {},
   "outputs": [
    {
     "data": {
      "text/plain": [
       "0"
      ]
     },
     "execution_count": 140,
     "metadata": {},
     "output_type": "execute_result"
    }
   ],
   "source": [
    "data.orientation.isnull().sum()"
   ]
  },
  {
   "cell_type": "code",
   "execution_count": 141,
   "id": "aboriginal-cisco",
   "metadata": {},
   "outputs": [],
   "source": [
    "data[\"orientation\"] = data[\"orientation\"].astype('category')"
   ]
  },
  {
   "cell_type": "code",
   "execution_count": 144,
   "id": "black-negotiation",
   "metadata": {},
   "outputs": [],
   "source": [
    "data['orientation_code'] = data.orientation.cat.codes"
   ]
  },
  {
   "cell_type": "code",
   "execution_count": 146,
   "id": "simple-tribe",
   "metadata": {},
   "outputs": [
    {
     "data": {
      "text/plain": [
       "array([2, 0, 1], dtype=int8)"
      ]
     },
     "execution_count": 146,
     "metadata": {},
     "output_type": "execute_result"
    }
   ],
   "source": [
    "data.orientation_code.unique()"
   ]
  },
  {
   "cell_type": "code",
   "execution_count": 148,
   "id": "authentic-bullet",
   "metadata": {},
   "outputs": [],
   "source": [
    "data[\"sex\"] = data[\"sex\"].astype('category')"
   ]
  },
  {
   "cell_type": "code",
   "execution_count": 149,
   "id": "refined-issue",
   "metadata": {},
   "outputs": [],
   "source": [
    "data['sex_code'] = data.sex.cat.codes"
   ]
  },
  {
   "cell_type": "markdown",
   "id": "smaller-description",
   "metadata": {},
   "source": [
    "# Models"
   ]
  },
  {
   "cell_type": "code",
   "execution_count": 150,
   "id": "missing-chancellor",
   "metadata": {},
   "outputs": [],
   "source": [
    "sex_labels = data.sex_code.to_numpy()"
   ]
  },
  {
   "cell_type": "code",
   "execution_count": 154,
   "id": "smart-mercury",
   "metadata": {},
   "outputs": [
    {
     "data": {
      "text/plain": [
       "array([1, 1, 1, ..., 1, 1, 1], dtype=int8)"
      ]
     },
     "execution_count": 154,
     "metadata": {},
     "output_type": "execute_result"
    }
   ],
   "source": [
    "sex_labels"
   ]
  },
  {
   "cell_type": "code",
   "execution_count": 152,
   "id": "promotional-philippines",
   "metadata": {},
   "outputs": [],
   "source": [
    "features = data[['drinks_code', 'body_type_code', 'income', 'orientation_code']]"
   ]
  },
  {
   "cell_type": "code",
   "execution_count": null,
   "id": "considered-consequence",
   "metadata": {},
   "outputs": [],
   "source": []
  },
  {
   "cell_type": "code",
   "execution_count": 155,
   "id": "blocked-water",
   "metadata": {},
   "outputs": [
    {
     "data": {
      "text/plain": [
       "((50000, 4), (50000,), (9946, 4))"
      ]
     },
     "execution_count": 155,
     "metadata": {},
     "output_type": "execute_result"
    }
   ],
   "source": [
    "def split_vals(a,n): \n",
    "  return a[:n].copy(), a[n:].copy()\n",
    "\n",
    "n_valid = 9946\n",
    "n_trn = len(data) - n_valid\n",
    "train_data, test_data = split_vals(features, n_trn)\n",
    "train_labels, test_labels = split_vals(sex_labels, n_trn)\n",
    "\n",
    "train_data.shape, train_labels.shape, test_data.shape"
   ]
  },
  {
   "cell_type": "markdown",
   "id": "worthy-performer",
   "metadata": {},
   "source": [
    "## KNN"
   ]
  },
  {
   "cell_type": "code",
   "execution_count": 156,
   "id": "western-study",
   "metadata": {},
   "outputs": [],
   "source": [
    "from sklearn.neighbors import KNeighborsClassifier  "
   ]
  },
  {
   "cell_type": "code",
   "execution_count": 157,
   "id": "posted-innocent",
   "metadata": {},
   "outputs": [],
   "source": [
    "classifier= KNeighborsClassifier(n_neighbors=5)  "
   ]
  },
  {
   "cell_type": "code",
   "execution_count": 158,
   "id": "inclusive-outside",
   "metadata": {},
   "outputs": [
    {
     "data": {
      "text/plain": [
       "KNeighborsClassifier()"
      ]
     },
     "execution_count": 158,
     "metadata": {},
     "output_type": "execute_result"
    }
   ],
   "source": [
    "classifier.fit(train_data, train_labels)  "
   ]
  },
  {
   "cell_type": "code",
   "execution_count": 159,
   "id": "precious-chapel",
   "metadata": {},
   "outputs": [
    {
     "data": {
      "text/plain": [
       "0.6267846370400161"
      ]
     },
     "execution_count": 159,
     "metadata": {},
     "output_type": "execute_result"
    }
   ],
   "source": [
    "classifier.score(test_data, test_labels)"
   ]
  },
  {
   "cell_type": "markdown",
   "id": "written-denmark",
   "metadata": {},
   "source": [
    "## Decision Tree Classifier"
   ]
  },
  {
   "cell_type": "code",
   "execution_count": 161,
   "id": "recent-helmet",
   "metadata": {},
   "outputs": [],
   "source": [
    "from sklearn.tree import DecisionTreeClassifier"
   ]
  },
  {
   "cell_type": "code",
   "execution_count": 162,
   "id": "overhead-performance",
   "metadata": {},
   "outputs": [],
   "source": [
    "clf = DecisionTreeClassifier()"
   ]
  },
  {
   "cell_type": "code",
   "execution_count": 163,
   "id": "differential-commercial",
   "metadata": {},
   "outputs": [
    {
     "data": {
      "text/plain": [
       "DecisionTreeClassifier()"
      ]
     },
     "execution_count": 163,
     "metadata": {},
     "output_type": "execute_result"
    }
   ],
   "source": [
    "clf.fit(train_data, train_labels)"
   ]
  },
  {
   "cell_type": "code",
   "execution_count": 164,
   "id": "musical-lyric",
   "metadata": {},
   "outputs": [
    {
     "data": {
      "text/plain": [
       "0.6604665192037"
      ]
     },
     "execution_count": 164,
     "metadata": {},
     "output_type": "execute_result"
    }
   ],
   "source": [
    "clf.score(test_data, test_labels)"
   ]
  },
  {
   "cell_type": "code",
   "execution_count": null,
   "id": "single-essay",
   "metadata": {},
   "outputs": [],
   "source": []
  }
 ],
 "metadata": {
  "kernelspec": {
   "display_name": "Python 3",
   "language": "python",
   "name": "python3"
  },
  "language_info": {
   "codemirror_mode": {
    "name": "ipython",
    "version": 3
   },
   "file_extension": ".py",
   "mimetype": "text/x-python",
   "name": "python",
   "nbconvert_exporter": "python",
   "pygments_lexer": "ipython3",
   "version": "3.8.7"
  }
 },
 "nbformat": 4,
 "nbformat_minor": 5
}
